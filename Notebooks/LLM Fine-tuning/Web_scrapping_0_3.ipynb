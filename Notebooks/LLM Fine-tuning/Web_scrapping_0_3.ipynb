{
  "nbformat": 4,
  "nbformat_minor": 0,
  "metadata": {
    "colab": {
      "provenance": []
    },
    "kernelspec": {
      "name": "python3",
      "display_name": "Python 3"
    },
    "language_info": {
      "name": "python"
    }
  },
  "cells": [
    {
      "cell_type": "code",
      "execution_count": null,
      "metadata": {
        "id": "A-BeWhK-7lZR"
      },
      "outputs": [],
      "source": [
        "# Step 1: Install necessary libraries\n",
        "%pip install --quiet --upgrade langchain-text-splitters langchain-community langgraph\n",
        "%pip install -qU \"langchain[openai]\"\n",
        "%pip install -qU langchain-openai\n",
        "%pip install -qU langchain-chroma"
      ]
    },
    {
      "cell_type": "code",
      "source": [
        "# Step 2: Set up environment variables to start logging traces\n",
        "\n",
        "import getpass\n",
        "import os\n",
        "\n",
        "os.environ[\"LANGSMITH_TRACING\"] = \"true\"\n",
        "os.environ[\"LANGSMITH_API_KEY\"] = getpass.getpass()"
      ],
      "metadata": {
        "colab": {
          "base_uri": "https://localhost:8080/"
        },
        "id": "3YGWYXrv78yW",
        "outputId": "b4400f58-7707-46bc-d282-96b7507fe3df"
      },
      "execution_count": null,
      "outputs": [
        {
          "name": "stdout",
          "output_type": "stream",
          "text": [
            "··········\n"
          ]
        }
      ]
    },
    {
      "cell_type": "code",
      "source": [
        "import os\n",
        "try:\n",
        "    from google.colab import userdata  # type: ignore\n",
        "    os.environ.setdefault(\"OPENAI_API_KEY\", userdata.get(\"OPENAI_API_KEY\") or \"\")\n",
        "    os.environ.setdefault(\"SCRAPFLY_API_KEY\", userdata.get(\"SCRAPFLY_API_KEY\") or \"\")\n",
        "except Exception:\n",
        "    pass  # Not in Colab or secrets not set\n",
        "\n",
        "if not os.getenv(\"OPENAI_API_KEY\"):\n",
        "    print(\"⚠️ OPENAI_API_KEY is not set. Add it in Colab Secrets or export it in the environment.\")\n",
        "if not os.getenv(\"SCRAPFLY_API_KEY\"):\n",
        "    print(\"⚠️ SCRAPFLY_API_KEY is not set. Add it in Colab Secrets or export it in the environment.\")"
      ],
      "metadata": {
        "id": "A0wUYWbm9prH"
      },
      "execution_count": null,
      "outputs": []
    },
    {
      "cell_type": "code",
      "source": [
        "pip install -qU \"langchain[openai]\""
      ],
      "metadata": {
        "id": "4G-BIM958AUB"
      },
      "execution_count": null,
      "outputs": []
    },
    {
      "cell_type": "code",
      "source": [
        "# Step 3: Set up chat model\n",
        "\n",
        "import getpass\n",
        "import os\n",
        "\n",
        "if not os.environ.get(\"OPENAI_API_KEY\"):\n",
        "  os.environ[\"OPENAI_API_KEY\"] = getpass.getpass(\"Enter API key for OpenAI: \")\n",
        "\n",
        "from langchain.chat_models import init_chat_model\n",
        "\n",
        "llm = init_chat_model(\"gpt-4o-mini\", model_provider=\"openai\")"
      ],
      "metadata": {
        "id": "gnsvxw_o8DtO",
        "colab": {
          "base_uri": "https://localhost:8080/"
        },
        "outputId": "083cb819-72f7-4ae5-d124-587e8a05c46a"
      },
      "execution_count": null,
      "outputs": [
        {
          "name": "stdout",
          "output_type": "stream",
          "text": [
            "Enter API key for OpenAI: ··········\n"
          ]
        }
      ]
    },
    {
      "cell_type": "code",
      "source": [
        "pip install -qU langchain-openai"
      ],
      "metadata": {
        "id": "v0-YtXZC8HBR"
      },
      "execution_count": null,
      "outputs": []
    },
    {
      "cell_type": "code",
      "source": [
        "# Step 4: Set up embedding model\n",
        "\n",
        "import getpass\n",
        "import os\n",
        "\n",
        "if not os.environ.get(\"OPENAI_API_KEY\"):\n",
        "  os.environ[\"OPENAI_API_KEY\"] = getpass.getpass(\"Enter API key for OpenAI: \")\n",
        "\n",
        "from langchain_openai import OpenAIEmbeddings\n",
        "\n",
        "embeddings = OpenAIEmbeddings(model=\"text-embedding-3-large\")"
      ],
      "metadata": {
        "id": "M4i_3mNz8Muk"
      },
      "execution_count": null,
      "outputs": []
    },
    {
      "cell_type": "code",
      "source": [
        "pip install -qU langchain-chroma"
      ],
      "metadata": {
        "id": "pOXtDbqM8S7v",
        "colab": {
          "base_uri": "https://localhost:8080/"
        },
        "outputId": "1561047f-bafd-408d-b792-6f5a7756155e"
      },
      "execution_count": null,
      "outputs": [
        {
          "output_type": "stream",
          "name": "stdout",
          "text": [
            "  Installing build dependencies ... \u001b[?25l\u001b[?25hdone\n",
            "  Getting requirements to build wheel ... \u001b[?25l\u001b[?25hdone\n",
            "  Preparing metadata (pyproject.toml) ... \u001b[?25l\u001b[?25hdone\n",
            "  Building wheel for pypika (pyproject.toml) ... \u001b[?25l\u001b[?25hdone\n"
          ]
        }
      ]
    },
    {
      "cell_type": "code",
      "source": [
        "# Step 4: Set up vector store\n",
        "\n",
        "from langchain_chroma import Chroma\n",
        "\n",
        "vector_store = Chroma(\n",
        "    collection_name=\"example_collection\",\n",
        "    embedding_function=embeddings,\n",
        "    persist_directory=\"./chroma_langchain_db\",  # Where to save data locally, remove if not necessary\n",
        ")"
      ],
      "metadata": {
        "id": "3HN4H92S8VLK"
      },
      "execution_count": null,
      "outputs": []
    },
    {
      "cell_type": "code",
      "source": [
        "# Step 5: Load and chunk contents of the website (working)\n",
        "\n",
        "import bs4\n",
        "from langchain_community.document_loaders import WebBaseLoader\n",
        "\n",
        "# Only keep post title, headers, and content from the full HTML.\n",
        "# bs4_strainer = bs4.SoupStrainer(class_=(\"post-title\", \"post-header\", \"post-content\"))\n",
        "loader = WebBaseLoader(\n",
        "    web_paths=(\"https://www.reinsurancene.ws/top-100-u-s-property-casualty-insurance-companies/\",\n",
        "               \"https://www.iii.org/publications/commercial-insurance/what-it-does/lines-of-business/standard-lines-premiums\",\n",
        "               \"https://www.insurancebusinessmag.com/us/news/breaking-news/the-10-largest-pc-commercial-and-personal-lines-insurers-19638.aspx\",\n",
        "               \"https://content.naic.org/sites/default/files/pc-and-title-2024mid-year-industry-report.pdf\",\n",
        "               \"https://content.naic.org/sites/default/files/research-actuarial-property-casualty-market-share.pdf\",\n",
        "              \"https://www.reinsurancene.ws/top-100-u-s-property-casualty-insurance-companies/\",\n",
        "              \"https://www.sci-tech-today.com/stats/insurance-industry-statistics/#Type_of_Insurance_Industry_Statistics\",\n",
        "               \"https://www.statista.com/statistics/186464/leading-us-commercial-lines-insurance-by-market-share/\"),\n",
        "    # bs_kwargs={\"parse_only\": bs4_strainer},\n",
        ")\n",
        "\n",
        "docs = loader.load()\n",
        "\n",
        "#assert len(docs) == 1\n",
        "print(f\"Total characters: {len(docs[0].page_content)}\")"
      ],
      "metadata": {
        "colab": {
          "base_uri": "https://localhost:8080/"
        },
        "id": "pOJKhakKMQ0B",
        "outputId": "f3edb7f9-89d8-4388-ab5b-07f562bc54b0"
      },
      "execution_count": null,
      "outputs": [
        {
          "output_type": "stream",
          "name": "stdout",
          "text": [
            "Total characters: 9359\n"
          ]
        }
      ]
    },
    {
      "cell_type": "code",
      "source": [
        "# Step 5: Load and chunk contents of the website (not working)\n",
        "\n",
        "import bs4\n",
        "from langchain_community.document_loaders import WebBaseLoader\n",
        "\n",
        "# Only keep post title, headers, and content from the full HTML.\n",
        "\n",
        "loader = WebBaseLoader(\n",
        "    web_paths=(\"https://www.reinsurancene.ws/top-100-u-s-property-casualty-insurance-companies/\",\n",
        "               \"https://www.iii.org/publications/commercial-insurance/what-it-does/lines-of-business/standard-lines-premiums\",\n",
        "               \"https://www.insurancebusinessmag.com/us/news/breaking-news/the-10-largest-pc-commercial-and-personal-lines-insurers-19638.aspx\",\n",
        "               \"https://content.naic.org/sites/default/files/pc-and-title-2024mid-year-industry-report.pdf\",\n",
        "               \"https://content.naic.org/sites/default/files/research-actuarial-property-casualty-market-share.pdf\",\n",
        "              \"https://www.reinsurancene.ws/top-100-u-s-property-casualty-insurance-companies/\",\n",
        "              \"https://www.sci-tech-today.com/stats/insurance-industry-statistics/#Type_of_Insurance_Industry_Statistics\",\n",
        "               \"https://www.statista.com/statistics/186464/leading-us-commercial-lines-insurance-by-market-share/\"),\n",
        "    bs_kwargs=dict(\n",
        "        parse_only=bs4.SoupStrainer(\n",
        "            class_=(\"post-content\", \"post-title\", \"post-header\")\n",
        "        )\n",
        "    ),\n",
        ")\n",
        "\n",
        "\n",
        "docs = loader.load()\n",
        "\n",
        "#assert len(docs) == 1\n",
        "print(f\"Total characters: {len(docs[0].page_content)}\")"
      ],
      "metadata": {
        "colab": {
          "base_uri": "https://localhost:8080/"
        },
        "id": "hY1kBLZRru6l",
        "outputId": "3530661f-acba-496a-a329-78660d2f605d"
      },
      "execution_count": null,
      "outputs": [
        {
          "output_type": "stream",
          "name": "stdout",
          "text": [
            "Total characters: 0\n"
          ]
        }
      ]
    },
    {
      "cell_type": "code",
      "source": [
        "# Step 5: Print first document\n",
        "\n",
        "print(docs[0].page_content[:500])"
      ],
      "metadata": {
        "colab": {
          "base_uri": "https://localhost:8080/"
        },
        "id": "FSSN2wOlMv3z",
        "outputId": "b6b4255c-432d-46f9-8981-a1e4c35bacd5",
        "collapsed": true
      },
      "execution_count": null,
      "outputs": [
        {
          "output_type": "stream",
          "name": "stdout",
          "text": [
            "\n",
            "\n",
            "\n",
            "\n",
            "\n",
            "\n",
            "\n",
            "\n",
            "\n",
            "\n",
            "\n",
            "\n",
            "\n",
            "Top 100 U.S. Property & Casualty Insurance Companies - Reinsurance News\n",
            "\n",
            "\n",
            "\n",
            "\n",
            "\n",
            "\n",
            "\n",
            "\n",
            "\n",
            "\n",
            "\n",
            "\n",
            "\n",
            "\n",
            "\n",
            "\n",
            "\n",
            "\n",
            "\n",
            "\n",
            "\n",
            "\n",
            "\n",
            "\n",
            "\n",
            "\n",
            "\n",
            "\n",
            "\n",
            "\n",
            "\n",
            "\n",
            "\n",
            "\n",
            "\n",
            "\n",
            "\n",
            "\n",
            "\n",
            "\n",
            "\n",
            "\n",
            "\n",
            "\n",
            "\n",
            "\n",
            "\n",
            "\n",
            "\n",
            "\n",
            "\n",
            "\n",
            "\n",
            "\n",
            "\n",
            "\n",
            "\n",
            "\n",
            "\n",
            "\n",
            "\n",
            "\n",
            "\n",
            "\n",
            "\n",
            "\n",
            "\n",
            "\n",
            "\n",
            "\n",
            "\n",
            "\n",
            "\n",
            "\n",
            "\n",
            "\n",
            "\n",
            " \n",
            "\n",
            "\n",
            "\n",
            "\n",
            "\n",
            "\n",
            "\n",
            "\n",
            "\n",
            "\n",
            "\n",
            "\n",
            "\n",
            "Home\n",
            "News\n",
            "\n",
            "#\n",
            "\n",
            "By combining our experience in knowledge management and reinsurance insight with technology, we aim to bring you the reinsurance industry news that matters online and in our daily emails. Use these categories to find news that interests you, or to view all of our news in chronological order just select “Read\n"
          ]
        }
      ]
    },
    {
      "cell_type": "code",
      "source": [
        "# Step 6: Splitting documents\n",
        "\n",
        "from langchain_text_splitters import RecursiveCharacterTextSplitter\n",
        "\n",
        "text_splitter = RecursiveCharacterTextSplitter(\n",
        "    chunk_size=1000,  # chunk size (characters)\n",
        "    chunk_overlap=200,  # chunk overlap (characters)\n",
        "    add_start_index=True,  # track index in original document\n",
        ")\n",
        "all_splits = text_splitter.split_documents(docs)\n",
        "\n",
        "print(f\"Split blog post into {len(all_splits)} sub-documents.\")"
      ],
      "metadata": {
        "colab": {
          "base_uri": "https://localhost:8080/"
        },
        "id": "hiZudWOkMzxo",
        "outputId": "d19cba1b-4719-48ab-c7dd-837be0115998"
      },
      "execution_count": null,
      "outputs": [
        {
          "output_type": "stream",
          "name": "stdout",
          "text": [
            "Split blog post into 1184 sub-documents.\n"
          ]
        }
      ]
    },
    {
      "cell_type": "code",
      "source": [
        "# Step 7: Storing documents\n",
        "\n",
        "batch_size = 100  # Define a batch size\n",
        "document_ids = []\n",
        "\n",
        "for i in range(0, len(all_splits), batch_size):\n",
        "    batch = all_splits[i:i + batch_size]\n",
        "    batch_document_ids = vector_store.add_documents(documents=batch)\n",
        "    document_ids.extend(batch_document_ids)\n",
        "\n",
        "\n",
        "print(document_ids[:3])"
      ],
      "metadata": {
        "colab": {
          "base_uri": "https://localhost:8080/"
        },
        "id": "wk5YCaUeN8lc",
        "outputId": "b79cf840-018b-42b1-ca97-3cf3ae576d1f"
      },
      "execution_count": null,
      "outputs": [
        {
          "output_type": "stream",
          "name": "stdout",
          "text": [
            "['921a306b-935f-4e74-b726-0ef0e9aa0ff1', '41f8f0c8-6178-4431-9fd7-ebbdf8fd1c01', '2789df41-e8ab-442c-8459-90fd1e075ed2']\n"
          ]
        }
      ]
    },
    {
      "cell_type": "code",
      "source": [
        "# Step 8: Use a prompt for RAG that is checked into the LangChain prompt hub\n",
        "from langchain import hub\n",
        "\n",
        "# N.B. for non-US LangSmith endpoints, you may need to specify\n",
        "# api_url=\"https://api.smith.langchain.com\" in hub.pull.\n",
        "prompt = hub.pull(\"rlm/rag-prompt\")\n",
        "\n",
        "example_messages = prompt.invoke(\n",
        "    {\"context\": \"(context goes here)\", \"question\": \"(question goes here)\"}\n",
        ").to_messages()\n",
        "\n",
        "assert len(example_messages) == 1\n",
        "print(example_messages[0].content)"
      ],
      "metadata": {
        "colab": {
          "base_uri": "https://localhost:8080/"
        },
        "id": "WghT4WK2ptxW",
        "outputId": "e1e17c8e-7b08-4a44-f7f0-a735a379348b"
      },
      "execution_count": null,
      "outputs": [
        {
          "output_type": "stream",
          "name": "stdout",
          "text": [
            "You are an assistant for question-answering tasks. Use the following pieces of retrieved context to answer the question. If you don't know the answer, just say that you don't know. Use three sentences maximum and keep the answer concise.\n",
            "Question: (question goes here) \n",
            "Context: (context goes here) \n",
            "Answer:\n"
          ]
        }
      ]
    },
    {
      "cell_type": "code",
      "source": [
        "# Step 9: Define state for application to keep track of the input question, retrieved context, and generated answer\n",
        "\n",
        "from langchain_core.documents import Document\n",
        "from typing_extensions import List, TypedDict\n",
        "\n",
        "\n",
        "class State(TypedDict):\n",
        "    question: str\n",
        "    context: List[Document]\n",
        "    answer: str"
      ],
      "metadata": {
        "id": "nkEg4EQMOq9q"
      },
      "execution_count": null,
      "outputs": []
    },
    {
      "cell_type": "code",
      "source": [
        "# Step 10: Define application steps - retrieval and generation\n",
        "\n",
        "def retrieve(state: State):\n",
        "    retrieved_docs = vector_store.similarity_search(state[\"question\"])\n",
        "    return {\"context\": retrieved_docs}\n",
        "\n",
        "\n",
        "def generate(state: State):\n",
        "    docs_content = \"\\n\\n\".join(doc.page_content for doc in state[\"context\"])\n",
        "    messages = prompt.invoke({\"question\": state[\"question\"], \"context\": docs_content})\n",
        "    response = llm.invoke(messages)\n",
        "    return {\"answer\": response.content}"
      ],
      "metadata": {
        "id": "q6PannBzOv5f"
      },
      "execution_count": null,
      "outputs": []
    },
    {
      "cell_type": "code",
      "source": [
        "# Step 11: Compile application into single graph object\n",
        "\n",
        "from langgraph.graph import START, StateGraph\n",
        "\n",
        "graph_builder = StateGraph(State).add_sequence([retrieve, generate])\n",
        "graph_builder.add_edge(START, \"retrieve\")\n",
        "graph = graph_builder.compile()"
      ],
      "metadata": {
        "id": "Ut5k10z_OzHS"
      },
      "execution_count": null,
      "outputs": []
    },
    {
      "cell_type": "code",
      "source": [
        "# Step 12: Visualizing the control flow of application:\n",
        "\n",
        "from IPython.display import Image, display\n",
        "\n",
        "display(Image(graph.get_graph().draw_mermaid_png()))"
      ],
      "metadata": {
        "colab": {
          "base_uri": "https://localhost:8080/",
          "height": 350
        },
        "id": "X1HYd-hrqUct",
        "outputId": "fc405521-9246-4e93-d7d4-485b5541d3b5"
      },
      "execution_count": null,
      "outputs": [
        {
          "output_type": "display_data",
          "data": {
            "image/png": "[encoded data removed]",
            "text/plain": [
              "<IPython.core.display.Image object>"
            ]
          },
          "metadata": {}
        }
      ]
    },
    {
      "cell_type": "code",
      "source": [
        "# Step 13: Test application using different questions\n",
        "\n",
        "from IPython.display import Markdown, display\n",
        "\n",
        "#response = graph.invoke({\"question\": \"List down top 3 Commercial Lines Insurers in 2024?\"})\n",
        "response = graph.invoke({\"question\": \"What is the rank of Hartford by net written premium in 2023? Also mention tge net written premium of Hartford in 2023.\"})\n",
        "#response = graph.invoke({\"question\": \"What is the rank of Progressive insurance?\"})\n",
        "#response = graph.invoke({\"question\": \"List down TOP TEN WRITERS OF COMMERCIAL LINES INSURANCE BY DIRECT PREMIUMS WRITTEN, 2008. Also mention respective direct written premiums\"})\n",
        "#response = graph.invoke({\"question\": \"List down top 3 Commercial Lines Insurers in 2024?\"})\n",
        "\n",
        "display(Markdown(f\"Context: {response['context']}\\n\\n\"))\n",
        "display(Markdown(f\"Answer: {response['answer']}\"))"
      ],
      "metadata": {
        "id": "VwRb-knGO_XI",
        "colab": {
          "base_uri": "https://localhost:8080/",
          "height": 628
        },
        "outputId": "26d718ad-464e-4821-f2e1-c0efbef7e5c0",
        "collapsed": true
      },
      "execution_count": null,
      "outputs": [
        {
          "output_type": "display_data",
          "data": {
            "text/plain": [
              "<IPython.core.display.Markdown object>"
            ],
            "text/markdown": "Context: [Document(id='e605c5df-81af-4a52-be25-b500b8802e27', metadata={'title': 'Standard Lines Premiums | III', 'description': 'The commercial lines sector of the property/casualty insurance industry generally provides insurance products for businesses as opposed to the personal lines sector, which offers products for individuals and households. However, the division between commercial and personal coverages is not precise. For example, inland marine insurance, which is included in the commercial lines', 'start_index': 17460, 'language': 'No language found.', 'source': 'https://www.iii.org/publications/commercial-insurance/what-it-does/lines-of-business/standard-lines-premiums'}, page_content='2016\\n34,035,048\\n-1.8\\n2021\\n43,743,627\\n6.9\\n\\n\\n2017\\n34,133,989\\n0.3\\n2022\\n48,416,980\\n10.7\\n\\n\\n2018\\n37,487,056\\n9.8\\n2023\\n54,608,768\\n13.0\\n\\n\\n2019\\n38,874,249\\n3.7\\n2024\\n58,279,674\\n6.8\\n\\n\\n\\n\\nNonliability portion\\n\\n\\nYear\\nNet premiums\\nwritten (1)\\nAnnual percent\\nchange\\nCombined\\nratio (2)\\nAnnual point\\nchange (3)\\nYear\\nNet premiums\\nwritten (1)\\nAnnual percent\\nchange\\nCombined\\nratio (2)\\nAnnual point\\nchange (3)\\n\\n\\n\\n\\n2015\\n$21,401,338\\n-2.0%\\n91.9\\n-5.3 pts.\\n2020\\n$25,589,527\\n9.9%\\n112.2\\n9.2 pts.\\n\\n\\n2016\\n20,762,324\\n-3.0\\n98.3\\n6.4\\n2021\\n27,297,914\\n6.7\\n109.2\\n-3.0\\n\\n\\n2017\\n20,619,726\\n-0.7\\n111.9\\n13.7\\n2022\\n30,354,005\\n11.2\\n103.7\\n-5.6\\n\\n\\n2018\\n22,500,592\\n9.1\\n108.4\\n-3.5\\n2023\\n35,298,186\\n16.3\\n105.4\\n1.7\\n\\n\\n2019\\n23,281,516\\n3.5\\n103\\n-5.4\\n2024\\n38,276,901\\n8.4\\n91.6\\n-13.8\\n\\n\\n\\n\\n\\xa0\\nLiability portion\\n\\n\\nYear\\nNet premiums\\nwritten (1)\\nAnnual percent\\nchange\\nCombined\\nratio (2)\\nAnnual point\\nchange (3)\\nYear\\nNet premiums\\nwritten (1)\\nAnnual percent\\nchange\\nCombined\\nratio (2)\\nAnnual point\\nchange (3)'), Document(id='1498a0fc-c073-41dd-908c-1bb69bf8dbd2', metadata={'description': 'FIO reveals the largest commercial and personal lines insurance providers in the P&C space. Find out where the top insurance brands rank', 'title': 'The 10 largest P/C commercial and personal lines insurers | Insurance Business America', 'language': 'en', 'source': 'https://www.insurancebusinessmag.com/us/news/breaking-news/the-10-largest-pc-commercial-and-personal-lines-insurers-19638.aspx', 'start_index': 15124}, page_content='7. CNA\\nDirect premiums written: $12.8 billion\\nMarket share: 2.84%\\n\\n\\n\\n\\nCNA Insurance offers commercial insurance and risk management solutions tailored to suit the unique needs of each business. Its portfolio includes commercial auto, cyber, liability, marine, and workers’ compensation insurance. CNA operates in more than 70 locations in the US, Canada, and Europe.\\n\\n\\n\\n\\n\\n\\n\\n\\n\\n8. The Hartford\\nDirect premiums written: $11.8 billion\\nMarket share: 2.61%\\n\\n\\n\\n\\nThe Hartford’s commercial lines policies cater to a wide range of industries, including education, healthcare, manufacturing, retail, and technology. Among the products in the Connecticut-based insurer’s portfolio are auto, property, data breach, general and professional liability, and workers’ compensation. The Hartford often receives positive reviews for its customer service.\\n\\n\\n\\n\\n\\xa0\\n\\n\\n\\n\\n9. Progressive\\nDirect premiums written: $10.9 billion\\nMarket share: 2.43%'), Document(id='62c4e9f7-1bec-4f18-82e3-acf58071d328', metadata={'start_index': 2884, 'language': 'No language found.', 'description': 'The commercial lines sector of the property/casualty insurance industry generally provides insurance products for businesses as opposed to the personal lines sector, which offers products for individuals and households. However, the division between commercial and personal coverages is not precise. For example, inland marine insurance, which is included in the commercial lines', 'source': 'https://www.iii.org/publications/commercial-insurance/what-it-does/lines-of-business/standard-lines-premiums', 'title': 'Standard Lines Premiums | III'}, page_content='3\\nLiberty Mutual\\n19,970,975\\n4.0\\n\\n\\n4\\nBerkshire Hathaway Inc.\\n19,202,724\\n3.8\\n\\n\\n5\\nZurich Insurance Group\\n17,991,721\\n3.6\\n\\n\\n6\\nAmerican International Group (AIG)\\n14,151,844\\n2.8\\n\\n\\n7\\nHartford Financial Services\\n13,829,345\\n2.8\\n\\n\\n8\\nCNA Financial Corp.\\n13,450,851\\n2.7\\n\\n\\n9\\nProgressive\\n12,547,795\\n2.5\\n\\n\\n10\\nTokio Marine\\n10,255,294\\n2.1\\n\\n\\n\\n\\n\\n\\n\\n(1) Before reinsurance transactions, includes state funds.\\n(2) Based on U.S. total, excluding territories.\\nSource: NAIC data, sourced from S&P Global Market Intelligence, Insurance Information Institute.\\n\\n\\n\\n\\nView Archived Tables \\n\\n\\n\\n    \\t      Top 10 Commercial Insurance Brokers Of U.S. Business By Revenue, 2024 (1)          \\n \\n\\n\\n\\n\\n($ millions)\\n\\n\\n\\n\\n\\n\\n\\n\\n\\n\\n\\n\\nRank\\nCompany\\nBrokerage revenues\\n\\n\\n\\n\\n1\\nMarsh & McLennan Cos. Inc. (2), (3)\\n$12,666\\n\\n\\n2\\nAon PLC (2), (4)\\n7,497\\n\\n\\n3\\nArthur J. Gallagher & Co. (2)\\n7,092\\n\\n\\n4\\nWillis Towers Watson PLC\\n5,064\\n\\n\\n5\\nAlliant Insurance Services Inc. (2)\\n4,970\\n\\n\\n6\\nBrown & Brown Inc. (2)\\n4,037\\n\\n\\n7\\nHub International Ltd. (2)\\n3,814'), Document(id='e0374714-92f8-40aa-acac-5f99e7a627c0', metadata={'start_index': 10376, 'title': 'Market share of U.S. commercial insurers 2023| Statista', 'description': 'In 2023, Chubb Ltd led the commercial lines insurance market in the United States, ahead of Travelers Companies Inc.', 'source': 'https://www.statista.com/statistics/186464/leading-us-commercial-lines-insurance-by-market-share/', 'language': 'en'}, page_content='Read more\\n                                            \\n                            Advertisement\\n                        \\n                            Advertisement\\n                        \\n                                                    Market share of commercial lines insurance companies in the United States from 2021 to 2023, by direct premiums written\\n                                            \\n                                    table\\n                                \\n                                    column chart\\n                                Characteristic202120222023*Chubb Ltd.5.6%5.7%5.5%Travelers Companies Inc.4.9%5%5.2%Liberty Mutual4.9%4.6%4.3%Berkshire Hathaway Inc.3.3%3.8%4%Zurich Insurance Group3.7%4%3.9%American International Group (AIG)3.3%3.1%3%CNA Financial Corp. 3%2.8%2.7%Hartford Financial Services2.7%2.7%2.7%Progressive2.6%2.5%2.5%Nationwide Mutual Group2.4%2.4%-\\tTokio Marine--2.1%')]\n\n"
          },
          "metadata": {}
        },
        {
          "output_type": "display_data",
          "data": {
            "text/plain": [
              "<IPython.core.display.Markdown object>"
            ],
            "text/markdown": "Answer: In 2023, Hartford ranked 7th by net written premium, with a total of $13.8 billion."
          },
          "metadata": {}
        }
      ]
    }
  ]
}